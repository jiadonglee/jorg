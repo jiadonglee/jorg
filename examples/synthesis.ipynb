{
 "cells": [
  {
   "cell_type": "code",
   "execution_count": 1,
   "id": "0c49d8ea",
   "metadata": {},
   "outputs": [
    {
     "name": "stderr",
     "output_type": "stream",
     "text": [
      "<frozen importlib._bootstrap>:219: RuntimeWarning: scipy._lib.messagestream.MessageStream size changed, may indicate binary incompatibility. Expected 56 from C header, got 64 from PyObject\n"
     ]
    }
   ],
   "source": [
    "import sys\n",
    "import os\n",
    "sys.path.append(\"/Users/jdli/Project/Korg.jl/Jorg/src/\")        \n",
    "\n",
    "from jorg import synthesize\n",
    "from jorg.synthesis import create_korg_compatible_abundance_array\n",
    "from jorg.atmosphere import interpolate_marcs as interpolate_atmosphere\n",
    "\n",
    "# Setup\n",
    "A_X = create_korg_compatible_abundance_array(m_H=0.0)\n",
    "atm = interpolate_atmosphere(Teff=5780, logg=4.44, m_H=0.0)\n"
   ]
  },
  {
   "cell_type": "code",
   "execution_count": null,
   "id": "9914a5a3",
   "metadata": {},
   "outputs": [
    {
     "name": "stdout",
     "output_type": "stream",
     "text": [
      "📖 Reading linelist: galah_dr3_linelist.h5\n",
      "   Format: galah_dr3\n",
      "   Wavelength unit: auto\n",
      "   Loaded 307002 lines from GALAH DR3 HDF5 format\n"
     ]
    }
   ],
   "source": [
    "from jorg.lines.linelist import read_linelist\n",
    "linelist = read_linelist(\"/Users/jdli/Project/Korg.jl/data/linelists/GALAH_DR3/galah_dr3_linelist.h5\")"
   ]
  },
  {
   "cell_type": "code",
   "execution_count": 6,
   "id": "3cf79b23",
   "metadata": {},
   "outputs": [
    {
     "name": "stdout",
     "output_type": "stream",
     "text": [
      "🚀 KORG-COMPATIBLE JORG SYNTHESIS\n",
      "==================================================\n",
      "Using Jorg's validated physics within Korg's architecture\n",
      "Wavelength range: 5000.0 - 6000.0 Å (10001 points)\n",
      "Abundances normalized: H fraction = 0.923902\n",
      "✅ Preprocessed 18 molecular species for optimization\n",
      "✅ Atomic physics data loaded\n",
      "Atmospheric model: 56 layers\n",
      "  Temperature range: 4068.6 - 9935.6 K\n",
      "  Pressure range: 2.67e+02 - 2.18e+05 dyn/cm²\n",
      "\n",
      "🧪 SYSTEMATIC LAYER-BY-LAYER PROCESSING\n",
      "Using Jorg's validated physics within Korg's architecture...\n",
      "🔄 Processing 56 atmospheric layers...\n",
      "   Wavelengths: 10001 points (5000.0-6000.0 Å)\n",
      "   Layer  1/56 (  1.8%)\n",
      "Loaded metal BF data for 10 species:\n",
      "  Al I\n",
      "  C I\n",
      "  Ca I\n",
      "  Fe I\n",
      "  H I\n",
      "  He II\n",
      "  Mg I\n",
      "  Na I\n",
      "  S I\n",
      "  Si I\n",
      "   Layer  2/56 (  3.6%)\n",
      "   Layer  3/56 (  5.4%)\n",
      "   Layer  4/56 (  7.1%)\n",
      "   Layer  5/56 (  8.9%)\n",
      "   Layer 11/56 ( 19.6%)\n",
      "   Layer 21/56 ( 37.5%)\n",
      "   Layer 31/56 ( 55.4%)\n",
      "   Layer 41/56 ( 73.2%)\n",
      "   Layer 51/56 ( 91.1%)\n",
      "\n",
      "✅ Layer processing complete:\n",
      "   Layers processed: 56\n",
      "   Chemical equilibrium failures: 0\n",
      "   Continuum failures: 0\n",
      "   Line failures: 0\n",
      "   Processing time: 20.46 seconds\n",
      "   Opacity matrix shape: (56, 10001)\n",
      "   Opacity range: 1.822e-12 - 1.730e-05 cm⁻¹\n",
      "   Maximum opacity: 1.730e-05 cm⁻¹\n",
      "     at layer 56, wavelength index 10000\n",
      "✅ Opacity matrix calculated: (56, 10001)\n",
      "  Opacity range: 1.822e-12 - 1.730e-05 cm⁻¹\n",
      "\n",
      "🌟 RADIATIVE TRANSFER\n",
      "✅ Radiative transfer completed\n",
      "  Flux range: 1.000e+00 - 1.000e+00\n",
      "  Continuum range: 9.000e-01 - 9.000e-01\n",
      "\n",
      "✅ KORG-COMPATIBLE SYNTHESIS COMPLETE\n",
      "📊 SynthesisResult fields: ['flux', 'cntm', 'intensity', 'alpha', 'mu_grid', 'number_densities', 'electron_number_density', 'wavelengths', 'subspectra']\n",
      "🎯 Key output: alpha matrix shape (56, 10001)\n"
     ]
    }
   ],
   "source": [
    "from jorg import synthesize\n",
    "from jorg.synthesis import create_korg_compatible_abundance_array\n",
    "from jorg.atmosphere import interpolate_marcs as interpolate_atmosphere\n",
    "\n",
    "# Standard solar synthesis\n",
    "A_X = create_korg_compatible_abundance_array(m_H=0.0)\n",
    "atm = interpolate_atmosphere(Teff=5780, logg=4.44, m_H=0.0)\n",
    "\n",
    "result = synthesize(\n",
    "    atm=atm, A_X=A_X, \n",
    "    wavelengths=(5000, 6000),\n",
    "    linelist=linelist,  # or provide VALD/GALAH linelist\n",
    "    verbose=True\n",
    ")\n",
    "\n",
    "# Access Korg-compatible results\n",
    "opacity_matrix = result.alpha          # [56 layers, N wavelengths]\n",
    "electron_densities = result.electron_number_density  # [56 layers]\n",
    "flux = result.flux                     # [N wavelengths]\n",
    "continuum = result.cntm               # [N wavelengths]"
   ]
  },
  {
   "cell_type": "code",
   "execution_count": 9,
   "id": "ed623da6",
   "metadata": {},
   "outputs": [
    {
     "data": {
      "text/plain": [
       "[<matplotlib.lines.Line2D at 0x32a1cdb80>]"
      ]
     },
     "execution_count": 9,
     "metadata": {},
     "output_type": "execute_result"
    },
    {
     "data": {
      "image/png": "[encoded data removed]",
      "text/plain": [
       "<Figure size 640x480 with 1 Axes>"
      ]
     },
     "metadata": {},
     "output_type": "display_data"
    }
   ],
   "source": [
    "from matplotlib import pyplot as plt\n",
    "\n",
    "plt.plot(result.wavelengths, flux/continuum, label='Flux/Continuum')\n",
    "\n",
    "# plt.plot(continuum, label='Continuum')"
   ]
  },
  {
   "cell_type": "code",
   "execution_count": 10,
   "id": "7e9cfb70",
   "metadata": {},
   "outputs": [
    {
     "data": {
      "text/plain": [
       "array([0.9, 0.9, 0.9, ..., 0.9, 0.9, 0.9])"
      ]
     },
     "execution_count": 10,
     "metadata": {},
     "output_type": "execute_result"
    }
   ],
   "source": [
    "continuum"
   ]
  },
  {
   "cell_type": "code",
   "execution_count": null,
   "id": "04131c11",
   "metadata": {},
   "outputs": [],
   "source": []
  }
 ],
 "metadata": {
  "kernelspec": {
   "display_name": "va",
   "language": "python",
   "name": "python3"
  },
  "language_info": {
   "codemirror_mode": {
    "name": "ipython",
    "version": 3
   },
   "file_extension": ".py",
   "mimetype": "text/x-python",
   "name": "python",
   "nbconvert_exporter": "python",
   "pygments_lexer": "ipython3",
   "version": "3.8.20"
  }
 },
 "nbformat": 4,
 "nbformat_minor": 5
}
