{
 "cells": [
  {
   "cell_type": "code",
   "execution_count": 5,
   "id": "e78c30b5",
   "metadata": {},
   "outputs": [
    {
     "name": "stdout",
     "output_type": "stream",
     "text": [
      "Added to Python path: /Users/jdli/Project/Korg.jl/jorg/src\n",
      "Attempting to import Jorg functions...\n"
     ]
    }
   ],
   "source": [
    "import json\n",
    "import numpy as np\n",
    "import os\n",
    "import sys\n",
    "from pathlib import Path\n",
    "import json\n",
    "\n",
    "# Add the correct Jorg package path\n",
    "jorg_src_path = os.path.join(os.path.dirname(os.getcwd()), 'Korg.jl/jorg/src')\n",
    "if jorg_src_path not in sys.path:\n",
    "    sys.path.insert(0, jorg_src_path)\n",
    "\n",
    "print(f\"Added to Python path: {jorg_src_path}\")\n",
    "\n",
    "# Try to import Jorg continuum functions with comprehensive error handling\n",
    "continuum_available = False\n",
    "constants_available = False\n",
    "\n",
    "print(\"Attempting to import Jorg functions...\")\n",
    "# Add Jorg to path\n",
    "from jorg.statmech.eos import gas_pressure, total_pressure\n",
    "from jorg.lines.opacity import calculate_line_opacity_korg_method\n",
    "\n",
    "def load_marcs_model(atmosphere_file):\n",
    "    \"\"\"Load MARCS atmosphere data\"\"\"\n",
    "    with open(atmosphere_file, 'r') as f:\n",
    "        atmosphere_data = json.load(f)\n",
    "    \n",
    "    # Get layer closest to tau_5000 = 1 (photosphere)\n",
    "    layer = min(atmosphere_data['atmosphere']['layers'], \n",
    "                key=lambda x: abs(x['tau_5000'] - 1.0))\n",
    "    \n",
    "    return {\n",
    "        'temperature': layer['temperature'],\n",
    "        'electron_density': layer['electron_density'],\n",
    "        'number_density': layer['number_density']\n",
    "    }"
   ]
  },
  {
   "cell_type": "code",
   "execution_count": 6,
   "id": "abf36202",
   "metadata": {},
   "outputs": [],
   "source": [
    "def load_marcs_model(atmosphere_file):\n",
    "    \"\"\"Load MARCS atmosphere data\"\"\"\n",
    "    with open(atmosphere_file, 'r') as f:\n",
    "        atmosphere_data = json.load(f)\n",
    "    \n",
    "    # Get layer closest to tau_5000 = 1 (photosphere)\n",
    "    layer = min(atmosphere_data['atmosphere']['layers'], \n",
    "                key=lambda x: abs(x['tau_5000'] - 1.0))\n",
    "    \n",
    "    return {\n",
    "        'temperature': layer['temperature'],\n",
    "        'electron_density': layer['electron_density'],\n",
    "        'number_density': layer['number_density']\n",
    "    }"
   ]
  },
  {
   "cell_type": "code",
   "execution_count": 8,
   "id": "683a4ff6",
   "metadata": {},
   "outputs": [],
   "source": [
    "def calculate_eos(atmosphere_params):\n",
    "    \"\"\"Calculate gas and total pressure using Jorg EOS\"\"\"\n",
    "    temp = atmosphere_params['temperature']\n",
    "    n_density = atmosphere_params['number_density']\n",
    "    e_density = atmosphere_params['electron_density']\n",
    "    \n",
    "    gas_press = gas_pressure(n_density, temp)\n",
    "    total_press = total_pressure(n_density, e_density, temp)\n",
    "    \n",
    "    return {\n",
    "        'gas_pressure': gas_press,\n",
    "        'total_pressure': total_press\n",
    "    }\n",
    "\n",
    "def load_linelist(linelist_file):\n",
    "    \"\"\"Load atomic/molecular line data\"\"\"\n",
    "    with open(linelist_file, 'r') as f:\n",
    "        return json.load(f)"
   ]
  },
  {
   "cell_type": "code",
   "execution_count": 9,
   "id": "e9aa6bec",
   "metadata": {},
   "outputs": [],
   "source": [
    "def calculate_total_opacity(atmosphere_file, linelist_file, wavelength):\n",
    "    \"\"\"\n",
    "    Calculate total opacity at given wavelength\n",
    "    \n",
    "    Args:\n",
    "        atmosphere_file: Path to MARCS atmosphere JSON\n",
    "        linelist_file: Path to linelist JSON  \n",
    "        wavelength: Wavelength in Angstroms\n",
    "        \n",
    "    Returns:\n",
    "        float: Total opacity in cm^-1\n",
    "    \"\"\"\n",
    "    # Load data\n",
    "    atm_params = load_marcs_model(atmosphere_file)\n",
    "    eos_params = calculate_eos(atm_params)\n",
    "    linelist = load_linelist(linelist_file)\n",
    "    \n",
    "    # Atmospheric parameters\n",
    "    temperature = atm_params['temperature']\n",
    "    electron_density = atm_params['electron_density']\n",
    "    hydrogen_density = atm_params['number_density'] * 0.9  # ~90% H\n",
    "    \n",
    "    # Line parameters (example Fe line)\n",
    "    excitation_potential = 3.0  # eV\n",
    "    log_gf = -2.0              # oscillator strength\n",
    "    abundance = 7.5e-5         # Fe/H ratio\n",
    "    microturbulence = 2.0      # km/s\n",
    "    \n",
    "    # Calculate opacity over small wavelength range\n",
    "    wavelengths = np.linspace(wavelength - 1.0, wavelength + 1.0, 100)\n",
    "    \n",
    "    opacity = calculate_line_opacity_korg_method(\n",
    "        wavelengths=wavelengths,\n",
    "        line_wavelength=wavelength,\n",
    "        excitation_potential=excitation_potential,\n",
    "        log_gf=log_gf,\n",
    "        temperature=temperature,\n",
    "        electron_density=electron_density,\n",
    "        hydrogen_density=hydrogen_density,\n",
    "        abundance=abundance,\n",
    "        microturbulence=microturbulence\n",
    "    )\n",
    "    \n",
    "    # Return central wavelength opacity\n",
    "    return opacity[len(wavelengths) // 2]\n",
    "\n"
   ]
  },
  {
   "cell_type": "code",
   "execution_count": 10,
   "id": "5885685a",
   "metadata": {},
   "outputs": [
    {
     "name": "stdout",
     "output_type": "stream",
     "text": [
      "Total opacity at 5000.0 Å: 5.054e-04 cm^-1\n"
     ]
    }
   ],
   "source": [
    "# File paths\n",
    "atmosphere_file = '/Users/jdli/Project/Korg.jl/jorg_related_files/marcs_data_for_jorg.json'\n",
    "linelist_file = '/Users/jdli/Project/Korg.jl/jorg_related_files/galah_linelist_for_jorg.json'\n",
    "wavelength = 5000.0  # Angstroms\n",
    "\n",
    "# Calculate opacity\n",
    "try:\n",
    "    total_opacity = calculate_total_opacity(atmosphere_file, linelist_file, wavelength)\n",
    "    print(f\"Total opacity at {wavelength} Å: {total_opacity:.3e} cm^-1\")\n",
    "except Exception as e:\n",
    "    print(f\"Error: {e}\")"
   ]
  },
  {
   "cell_type": "code",
   "execution_count": null,
   "id": "ed353941",
   "metadata": {},
   "outputs": [],
   "source": []
  }
 ],
 "metadata": {
  "kernelspec": {
   "display_name": "va",
   "language": "python",
   "name": "python3"
  },
  "language_info": {
   "codemirror_mode": {
    "name": "ipython",
    "version": 3
   },
   "file_extension": ".py",
   "mimetype": "text/x-python",
   "name": "python",
   "nbconvert_exporter": "python",
   "pygments_lexer": "ipython3",
   "version": "3.8.20"
  }
 },
 "nbformat": 4,
 "nbformat_minor": 5
}
