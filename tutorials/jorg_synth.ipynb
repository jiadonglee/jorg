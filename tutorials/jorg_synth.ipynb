{
 "cells": [
  {
   "cell_type": "code",
   "execution_count": 3,
   "id": "ac02ee3e",
   "metadata": {},
   "outputs": [],
   "source": [
    "import sys\n",
    "sys.path.append('/Users/jdli/Project/Korg.jl/Jorg/src/')\n",
    "from jorg import synth"
   ]
  },
  {
   "cell_type": "code",
   "execution_count": 4,
   "id": "aba13fb6",
   "metadata": {},
   "outputs": [
    {
     "name": "stdout",
     "output_type": "stream",
     "text": [
      "Loaded metal BF data for 10 species:\n",
      "  Al I\n",
      "  C I\n",
      "  Ca I\n",
      "  Fe I\n",
      "  H I\n",
      "  He II\n",
      "  Mg I\n",
      "  Na I\n",
      "  S I\n",
      "  Si I\n",
      "Error loading Stark profiles: There are 10 points and 40 values in dimension 0\n"
     ]
    },
    {
     "ename": "KeyboardInterrupt",
     "evalue": "",
     "output_type": "error",
     "traceback": [
      "\u001b[0;31m---------------------------------------------------------------------------\u001b[0m",
      "\u001b[0;31mKeyboardInterrupt\u001b[0m                         Traceback (most recent call last)",
      "Cell \u001b[0;32mIn[4], line 1\u001b[0m\n\u001b[0;32m----> 1\u001b[0m wavelengths, flux, continuum \u001b[38;5;241m=\u001b[39m \u001b[43msynth\u001b[49m\u001b[43m(\u001b[49m\n\u001b[1;32m      2\u001b[0m \u001b[43m    \u001b[49m\u001b[43mTeff\u001b[49m\u001b[38;5;241;43m=\u001b[39;49m\u001b[38;5;241;43m5000\u001b[39;49m\u001b[43m,\u001b[49m\u001b[43m          \u001b[49m\u001b[38;5;66;43;03m# Effective temperature (K)\u001b[39;49;00m\n\u001b[1;32m      3\u001b[0m \u001b[43m    \u001b[49m\u001b[43mlogg\u001b[49m\u001b[38;5;241;43m=\u001b[39;49m\u001b[38;5;241;43m4.32\u001b[39;49m\u001b[43m,\u001b[49m\u001b[43m          \u001b[49m\u001b[38;5;66;43;03m# Surface gravity (log g)\u001b[39;49;00m\n\u001b[1;32m      4\u001b[0m \u001b[43m    \u001b[49m\u001b[43mm_H\u001b[49m\u001b[38;5;241;43m=\u001b[39;49m\u001b[38;5;241;43m-\u001b[39;49m\u001b[38;5;241;43m1.1\u001b[39;49m\u001b[43m,\u001b[49m\u001b[43m            \u001b[49m\u001b[38;5;66;43;03m# Metallicity [M/H]\u001b[39;49;00m\n\u001b[1;32m      5\u001b[0m \u001b[43m)\u001b[49m\n",
      "File \u001b[0;32m~/Project/Korg.jl/Jorg/src/jorg/synthesis.py:365\u001b[0m, in \u001b[0;36msynth\u001b[0;34m(Teff, logg, m_H, alpha_H, linelist, wavelengths, rectify, R, vsini, vmic, synthesize_kwargs, format_A_X_kwargs, **abundances)\u001b[0m\n\u001b[1;32m    362\u001b[0m     wl \u001b[38;5;241m=\u001b[39m jnp\u001b[38;5;241m.\u001b[39mconcatenate(wl_ranges)\n\u001b[1;32m    364\u001b[0m \u001b[38;5;66;03m# Call synthesize\u001b[39;00m\n\u001b[0;32m--> 365\u001b[0m spectrum \u001b[38;5;241m=\u001b[39m \u001b[43msynthesize\u001b[49m\u001b[43m(\u001b[49m\u001b[43matm\u001b[49m\u001b[43m,\u001b[49m\u001b[43m \u001b[49m\u001b[43mlinelist\u001b[49m\u001b[43m,\u001b[49m\u001b[43m \u001b[49m\u001b[43mA_X\u001b[49m\u001b[43m,\u001b[49m\u001b[43m \u001b[49m\u001b[43mwl\u001b[49m\u001b[43m,\u001b[49m\u001b[43m \u001b[49m\u001b[43mvmic\u001b[49m\u001b[38;5;241;43m=\u001b[39;49m\u001b[43mvmic\u001b[49m\u001b[43m,\u001b[49m\u001b[43m \u001b[49m\u001b[38;5;241;43m*\u001b[39;49m\u001b[38;5;241;43m*\u001b[39;49m\u001b[43msynthesize_kwargs\u001b[49m\u001b[43m)\u001b[49m\n\u001b[1;32m    367\u001b[0m \u001b[38;5;66;03m# Apply rectification \u001b[39;00m\n\u001b[1;32m    368\u001b[0m flux \u001b[38;5;241m=\u001b[39m spectrum\u001b[38;5;241m.\u001b[39mflux \u001b[38;5;241m/\u001b[39m spectrum\u001b[38;5;241m.\u001b[39mcntm \u001b[38;5;28;01mif\u001b[39;00m rectify \u001b[38;5;28;01melse\u001b[39;00m spectrum\u001b[38;5;241m.\u001b[39mflux\n",
      "File \u001b[0;32m~/Project/Korg.jl/Jorg/src/jorg/synthesis.py:580\u001b[0m, in \u001b[0;36msynthesize\u001b[0;34m(atm, linelist, A_X, wavelengths, vmic, line_buffer, cntm_step, air_wavelengths, hydrogen_lines, use_MHD_for_hydrogen_lines, hydrogen_line_window_size, mu_values, line_cutoff_threshold, return_cntm, I_scheme, tau_scheme, verbose)\u001b[0m\n\u001b[1;32m    577\u001b[0m source_function \u001b[38;5;241m=\u001b[39m source_function \u001b[38;5;241m*\u001b[39m SPEED_OF_LIGHT \u001b[38;5;241m/\u001b[39m (wavelengths[\u001b[38;5;28;01mNone\u001b[39;00m, :] \u001b[38;5;241m*\u001b[39m \u001b[38;5;241m1e-8\u001b[39m)\u001b[38;5;241m*\u001b[39m\u001b[38;5;241m*\u001b[39m\u001b[38;5;241m2\u001b[39m\n\u001b[1;32m    579\u001b[0m \u001b[38;5;66;03m# Solve radiative transfer using Korg-consistent implementation\u001b[39;00m\n\u001b[0;32m--> 580\u001b[0m rt_result \u001b[38;5;241m=\u001b[39m \u001b[43mradiative_transfer\u001b[49m\u001b[43m(\u001b[49m\n\u001b[1;32m    581\u001b[0m \u001b[43m    \u001b[49m\u001b[43malpha\u001b[49m\u001b[43m,\u001b[49m\u001b[43m \u001b[49m\u001b[43msource_function\u001b[49m\u001b[43m,\u001b[49m\u001b[43m \u001b[49m\u001b[43matm\u001b[49m\u001b[43m[\u001b[49m\u001b[38;5;124;43m'\u001b[39;49m\u001b[38;5;124;43mheight\u001b[39;49m\u001b[38;5;124;43m'\u001b[39;49m\u001b[43m]\u001b[49m\u001b[43m,\u001b[49m\u001b[43m \u001b[49m\u001b[43mmu_values\u001b[49m\u001b[43m,\u001b[49m\n\u001b[1;32m    582\u001b[0m \u001b[43m    \u001b[49m\u001b[43mspherical\u001b[49m\u001b[38;5;241;43m=\u001b[39;49m\u001b[38;5;28;43;01mFalse\u001b[39;49;00m\u001b[43m,\u001b[49m\u001b[43m  \u001b[49m\u001b[38;5;66;43;03m# Plane-parallel atmosphere\u001b[39;49;00m\n\u001b[1;32m    583\u001b[0m \u001b[43m    \u001b[49m\u001b[43minclude_inward_rays\u001b[49m\u001b[38;5;241;43m=\u001b[39;49m\u001b[38;5;28;43;01mFalse\u001b[39;49;00m\u001b[43m,\u001b[49m\n\u001b[1;32m    584\u001b[0m \u001b[43m    \u001b[49m\u001b[43malpha_ref\u001b[49m\u001b[38;5;241;43m=\u001b[39;49m\u001b[43malpha\u001b[49m\u001b[43m[\u001b[49m\u001b[43m:\u001b[49m\u001b[43m,\u001b[49m\u001b[43m \u001b[49m\u001b[38;5;28;43mlen\u001b[39;49m\u001b[43m(\u001b[49m\u001b[43mwavelengths\u001b[49m\u001b[43m)\u001b[49m\u001b[38;5;241;43m/\u001b[39;49m\u001b[38;5;241;43m/\u001b[39;49m\u001b[38;5;241;43m2\u001b[39;49m\u001b[43m]\u001b[49m\u001b[43m,\u001b[49m\u001b[43m  \u001b[49m\u001b[38;5;66;43;03m# Use middle wavelength as reference\u001b[39;49;00m\n\u001b[1;32m    585\u001b[0m \u001b[43m    \u001b[49m\u001b[43mtau_ref\u001b[49m\u001b[38;5;241;43m=\u001b[39;49m\u001b[43matm\u001b[49m\u001b[43m[\u001b[49m\u001b[38;5;124;43m'\u001b[39;49m\u001b[38;5;124;43mtau_5000\u001b[39;49m\u001b[38;5;124;43m'\u001b[39;49m\u001b[43m]\u001b[49m\u001b[43m,\u001b[49m\u001b[43m  \u001b[49m\u001b[38;5;66;43;03m# Reference optical depth from atmosphere\u001b[39;49;00m\n\u001b[1;32m    586\u001b[0m \u001b[43m    \u001b[49m\u001b[43mtau_scheme\u001b[49m\u001b[38;5;241;43m=\u001b[39;49m\u001b[43mtau_scheme\u001b[49m\u001b[43m,\u001b[49m\u001b[43m \u001b[49m\n\u001b[1;32m    587\u001b[0m \u001b[43m    \u001b[49m\u001b[43mI_scheme\u001b[49m\u001b[38;5;241;43m=\u001b[39;49m\u001b[43mI_scheme\u001b[49m\n\u001b[1;32m    588\u001b[0m \u001b[43m\u001b[49m\u001b[43m)\u001b[49m\n\u001b[1;32m    590\u001b[0m flux \u001b[38;5;241m=\u001b[39m rt_result\u001b[38;5;241m.\u001b[39mflux\n\u001b[1;32m    591\u001b[0m intensity \u001b[38;5;241m=\u001b[39m rt_result\u001b[38;5;241m.\u001b[39mintensity\n",
      "File \u001b[0;32m~/Project/Korg.jl/Jorg/src/jorg/radiative_transfer.py:722\u001b[0m, in \u001b[0;36mradiative_transfer\u001b[0;34m(alpha, S, spatial_coord, mu_points, spherical, include_inward_rays, alpha_ref, tau_ref, tau_scheme, I_scheme)\u001b[0m\n\u001b[1;32m    719\u001b[0m     path, dsdz \u001b[38;5;241m=\u001b[39m rays[ray_ind]\n\u001b[1;32m    720\u001b[0m     layer_inds \u001b[38;5;241m=\u001b[39m \u001b[38;5;28mlist\u001b[39m(\u001b[38;5;28mrange\u001b[39m(\u001b[38;5;28mlen\u001b[39m(path)))\n\u001b[0;32m--> 722\u001b[0m     I \u001b[38;5;241m=\u001b[39m \u001b[43mradiative_transfer_core\u001b[49m\u001b[43m(\u001b[49m\n\u001b[1;32m    723\u001b[0m \u001b[43m        \u001b[49m\u001b[43mmu_ind\u001b[49m\u001b[43m,\u001b[49m\u001b[43m \u001b[49m\u001b[43mlayer_inds\u001b[49m\u001b[43m,\u001b[49m\u001b[43m \u001b[49m\u001b[43mn_inward_rays\u001b[49m\u001b[43m,\u001b[49m\u001b[43m \u001b[49m\u001b[43mpath\u001b[49m\u001b[43m,\u001b[49m\u001b[43m \u001b[49m\u001b[43mdsdz\u001b[49m\u001b[43m,\u001b[49m\n\u001b[1;32m    724\u001b[0m \u001b[43m        \u001b[49m\u001b[43mtau_buffer\u001b[49m\u001b[43m,\u001b[49m\u001b[43m \u001b[49m\u001b[43mintegrand_buffer\u001b[49m\u001b[43m,\u001b[49m\u001b[43m \u001b[49m\u001b[43mlog_tau_ref\u001b[49m\u001b[43m,\u001b[49m\u001b[43m \u001b[49m\u001b[43malpha\u001b[49m\u001b[43m,\u001b[49m\u001b[43m \u001b[49m\u001b[43mS\u001b[49m\u001b[43m,\u001b[49m\u001b[43m \u001b[49m\u001b[43mI\u001b[49m\u001b[43m,\u001b[49m\u001b[43m \u001b[49m\n\u001b[1;32m    725\u001b[0m \u001b[43m        \u001b[49m\u001b[43mtau_ref\u001b[49m\u001b[43m,\u001b[49m\u001b[43m \u001b[49m\u001b[43malpha_ref\u001b[49m\u001b[43m,\u001b[49m\u001b[43m \u001b[49m\u001b[43mtau_scheme\u001b[49m\u001b[43m,\u001b[49m\u001b[43m \u001b[49m\u001b[43mI_scheme\u001b[49m\u001b[43m)\u001b[49m\n\u001b[1;32m    727\u001b[0m \u001b[38;5;66;03m# Calculate emergent flux from surface intensities\u001b[39;00m\n\u001b[1;32m    728\u001b[0m \u001b[38;5;28;01mif\u001b[39;00m I_scheme\u001b[38;5;241m.\u001b[39mstartswith(\u001b[38;5;124m\"\u001b[39m\u001b[38;5;124mlinear_flux_only\u001b[39m\u001b[38;5;124m\"\u001b[39m):\n",
      "File \u001b[0;32m~/Project/Korg.jl/Jorg/src/jorg/radiative_transfer.py:589\u001b[0m, in \u001b[0;36mradiative_transfer_core\u001b[0;34m(mu_ind, layer_inds, n_inward_rays, path, dsdz, tau_buffer, integrand_buffer, log_tau_ref, alpha, S, I, tau_ref, alpha_ref, tau_scheme, I_scheme)\u001b[0m\n\u001b[1;32m    587\u001b[0m     I \u001b[38;5;241m=\u001b[39m I\u001b[38;5;241m.\u001b[39mat[mu_ind, lam_ind, layer_inds_array]\u001b[38;5;241m.\u001b[39mset(I_ray)\n\u001b[1;32m    588\u001b[0m \u001b[38;5;28;01melif\u001b[39;00m I_scheme \u001b[38;5;241m==\u001b[39m \u001b[38;5;124m\"\u001b[39m\u001b[38;5;124mlinear_flux_only\u001b[39m\u001b[38;5;124m\"\u001b[39m:\n\u001b[0;32m--> 589\u001b[0m     I_surface \u001b[38;5;241m=\u001b[39m \u001b[43mcompute_I_linear_flux_only\u001b[49m\u001b[43m(\u001b[49m\u001b[43mtau\u001b[49m\u001b[43m,\u001b[49m\u001b[43m \u001b[49m\u001b[43mS_ray\u001b[49m\u001b[43m)\u001b[49m\n\u001b[1;32m    590\u001b[0m     I \u001b[38;5;241m=\u001b[39m I\u001b[38;5;241m.\u001b[39mat[mu_ind, lam_ind]\u001b[38;5;241m.\u001b[39madd(I_surface)\n\u001b[1;32m    591\u001b[0m \u001b[38;5;28;01melif\u001b[39;00m I_scheme \u001b[38;5;241m==\u001b[39m \u001b[38;5;124m\"\u001b[39m\u001b[38;5;124mlinear_flux_only_expint\u001b[39m\u001b[38;5;124m\"\u001b[39m:\n",
      "File \u001b[0;32m~/Project/Korg.jl/Jorg/src/jorg/radiative_transfer.py:319\u001b[0m, in \u001b[0;36mcompute_I_linear_flux_only\u001b[0;34m(tau, S)\u001b[0m\n\u001b[1;32m    316\u001b[0m next_exp_neg_tau \u001b[38;5;241m=\u001b[39m jnp\u001b[38;5;241m.\u001b[39mexp(\u001b[38;5;241m-\u001b[39mtau[\u001b[38;5;241m0\u001b[39m])\n\u001b[1;32m    318\u001b[0m \u001b[38;5;28;01mfor\u001b[39;00m i \u001b[38;5;129;01min\u001b[39;00m \u001b[38;5;28mrange\u001b[39m(\u001b[38;5;28mlen\u001b[39m(tau)\u001b[38;5;241m-\u001b[39m\u001b[38;5;241m1\u001b[39m):\n\u001b[0;32m--> 319\u001b[0m     delta_tau \u001b[38;5;241m=\u001b[39m tau[i\u001b[38;5;241m+\u001b[39m\u001b[38;5;241m1\u001b[39m] \u001b[38;5;241m-\u001b[39m \u001b[43mtau\u001b[49m\u001b[43m[\u001b[49m\u001b[43mi\u001b[49m\u001b[43m]\u001b[49m\n\u001b[1;32m    321\u001b[0m     \u001b[38;5;66;03m# Handle numerical issues with very small delta_tau\u001b[39;00m\n\u001b[1;32m    322\u001b[0m     delta_tau \u001b[38;5;241m=\u001b[39m jnp\u001b[38;5;241m.\u001b[39mwhere(delta_tau \u001b[38;5;241m==\u001b[39m \u001b[38;5;241m0\u001b[39m, \u001b[38;5;241m1.0\u001b[39m, delta_tau)\n",
      "File \u001b[0;32m~/anaconda3/envs/va/lib/python3.8/site-packages/jax/_src/array.py:317\u001b[0m, in \u001b[0;36mArrayImpl.__getitem__\u001b[0;34m(self, idx)\u001b[0m\n\u001b[1;32m    315\u001b[0m   \u001b[38;5;28;01mreturn\u001b[39;00m lax_numpy\u001b[38;5;241m.\u001b[39m_rewriting_take(\u001b[38;5;28mself\u001b[39m, idx)\n\u001b[1;32m    316\u001b[0m \u001b[38;5;28;01melse\u001b[39;00m:\n\u001b[0;32m--> 317\u001b[0m   \u001b[38;5;28;01mreturn\u001b[39;00m \u001b[43mlax_numpy\u001b[49m\u001b[38;5;241;43m.\u001b[39;49m\u001b[43m_rewriting_take\u001b[49m\u001b[43m(\u001b[49m\u001b[38;5;28;43mself\u001b[39;49m\u001b[43m,\u001b[49m\u001b[43m \u001b[49m\u001b[43midx\u001b[49m\u001b[43m)\u001b[49m\n",
      "File \u001b[0;32m~/anaconda3/envs/va/lib/python3.8/site-packages/jax/_src/numpy/lax_numpy.py:4128\u001b[0m, in \u001b[0;36m_rewriting_take\u001b[0;34m(arr, idx, indices_are_sorted, unique_indices, mode, fill_value)\u001b[0m\n\u001b[1;32m   4119\u001b[0m \u001b[38;5;28;01mdef\u001b[39;00m \u001b[38;5;21m_rewriting_take\u001b[39m(arr, idx, indices_are_sorted\u001b[38;5;241m=\u001b[39m\u001b[38;5;28;01mFalse\u001b[39;00m, unique_indices\u001b[38;5;241m=\u001b[39m\u001b[38;5;28;01mFalse\u001b[39;00m,\n\u001b[1;32m   4120\u001b[0m                     mode\u001b[38;5;241m=\u001b[39m\u001b[38;5;28;01mNone\u001b[39;00m, fill_value\u001b[38;5;241m=\u001b[39m\u001b[38;5;28;01mNone\u001b[39;00m):\n\u001b[1;32m   4121\u001b[0m   \u001b[38;5;66;03m# Computes arr[idx].\u001b[39;00m\n\u001b[0;32m   (...)\u001b[0m\n\u001b[1;32m   4125\u001b[0m   \u001b[38;5;66;03m# For simplicity of generated primitives, we call lax.dynamic_slice in the\u001b[39;00m\n\u001b[1;32m   4126\u001b[0m   \u001b[38;5;66;03m# simplest cases: i.e. non-dynamic arrays indexed with integers and slices.\u001b[39;00m\n\u001b[0;32m-> 4128\u001b[0m   \u001b[38;5;28;01mif\u001b[39;00m (result \u001b[38;5;241m:=\u001b[39m \u001b[43m_attempt_rewriting_take_via_slice\u001b[49m\u001b[43m(\u001b[49m\u001b[43marr\u001b[49m\u001b[43m,\u001b[49m\u001b[43m \u001b[49m\u001b[43midx\u001b[49m\u001b[43m,\u001b[49m\u001b[43m \u001b[49m\u001b[43mmode\u001b[49m\u001b[43m)\u001b[49m) \u001b[38;5;129;01mis\u001b[39;00m \u001b[38;5;129;01mnot\u001b[39;00m \u001b[38;5;28;01mNone\u001b[39;00m:\n\u001b[1;32m   4129\u001b[0m     \u001b[38;5;28;01mreturn\u001b[39;00m result\n\u001b[1;32m   4131\u001b[0m   \u001b[38;5;66;03m# TODO(mattjj,dougalm): expand dynamic shape indexing support\u001b[39;00m\n",
      "File \u001b[0;32m~/anaconda3/envs/va/lib/python3.8/site-packages/jax/_src/numpy/lax_numpy.py:4113\u001b[0m, in \u001b[0;36m_attempt_rewriting_take_via_slice\u001b[0;34m(arr, idx, mode)\u001b[0m\n\u001b[1;32m   4111\u001b[0m \u001b[38;5;28;01mif\u001b[39;00m \u001b[38;5;28mlen\u001b[39m(start_indices) \u001b[38;5;241m>\u001b[39m \u001b[38;5;241m1\u001b[39m:\n\u001b[1;32m   4112\u001b[0m   start_indices \u001b[38;5;241m=\u001b[39m util\u001b[38;5;241m.\u001b[39mpromote_dtypes(\u001b[38;5;241m*\u001b[39mstart_indices)\n\u001b[0;32m-> 4113\u001b[0m arr \u001b[38;5;241m=\u001b[39m \u001b[43mlax\u001b[49m\u001b[38;5;241;43m.\u001b[39;49m\u001b[43mdynamic_slice\u001b[49m\u001b[43m(\u001b[49m\u001b[43marr\u001b[49m\u001b[43m,\u001b[49m\u001b[43m \u001b[49m\u001b[43mstart_indices\u001b[49m\u001b[38;5;241;43m=\u001b[39;49m\u001b[43mstart_indices\u001b[49m\u001b[43m,\u001b[49m\u001b[43m \u001b[49m\u001b[43mslice_sizes\u001b[49m\u001b[38;5;241;43m=\u001b[39;49m\u001b[43mslice_sizes\u001b[49m\u001b[43m)\u001b[49m\n\u001b[1;32m   4114\u001b[0m \u001b[38;5;28;01mif\u001b[39;00m int_indices:\n\u001b[1;32m   4115\u001b[0m   arr \u001b[38;5;241m=\u001b[39m lax\u001b[38;5;241m.\u001b[39msqueeze(arr, \u001b[38;5;28mtuple\u001b[39m(int_indices))\n",
      "File \u001b[0;32m~/anaconda3/envs/va/lib/python3.8/site-packages/jax/_src/lax/slicing.py:105\u001b[0m, in \u001b[0;36mdynamic_slice\u001b[0;34m(operand, start_indices, slice_sizes)\u001b[0m\n\u001b[1;32m     63\u001b[0m \u001b[38;5;28;01mdef\u001b[39;00m \u001b[38;5;21mdynamic_slice\u001b[39m(\n\u001b[1;32m     64\u001b[0m     operand: Union[Array, np\u001b[38;5;241m.\u001b[39mndarray],\n\u001b[1;32m     65\u001b[0m     start_indices: Union[Union[Array, np\u001b[38;5;241m.\u001b[39mndarray], Sequence[ArrayLike]],\n\u001b[1;32m     66\u001b[0m     slice_sizes: Shape,\n\u001b[1;32m     67\u001b[0m ) \u001b[38;5;241m-\u001b[39m\u001b[38;5;241m>\u001b[39m Array:\n\u001b[1;32m     68\u001b[0m \u001b[38;5;250m  \u001b[39m\u001b[38;5;124;03m\"\"\"Wraps XLA's `DynamicSlice\u001b[39;00m\n\u001b[1;32m     69\u001b[0m \u001b[38;5;124;03m  <https://www.tensorflow.org/xla/operation_semantics#dynamicslice>`_\u001b[39;00m\n\u001b[1;32m     70\u001b[0m \u001b[38;5;124;03m  operator.\u001b[39;00m\n\u001b[0;32m   (...)\u001b[0m\n\u001b[1;32m    103\u001b[0m \u001b[38;5;124;03m           [ 8,  9, 10, 11]], dtype=int32)\u001b[39;00m\n\u001b[1;32m    104\u001b[0m \u001b[38;5;124;03m  \"\"\"\u001b[39;00m\n\u001b[0;32m--> 105\u001b[0m   start_indices \u001b[38;5;241m=\u001b[39m \u001b[43m_dynamic_slice_indices\u001b[49m\u001b[43m(\u001b[49m\u001b[43moperand\u001b[49m\u001b[43m,\u001b[49m\u001b[43m \u001b[49m\u001b[43mstart_indices\u001b[49m\u001b[43m)\u001b[49m\n\u001b[1;32m    106\u001b[0m   \u001b[38;5;28;01mif\u001b[39;00m jax\u001b[38;5;241m.\u001b[39mconfig\u001b[38;5;241m.\u001b[39mjax_dynamic_shapes:\n\u001b[1;32m    107\u001b[0m     dynamic_sizes, static_sizes \u001b[38;5;241m=\u001b[39m lax\u001b[38;5;241m.\u001b[39m_extract_tracers_dyn_shape(slice_sizes)\n",
      "File \u001b[0;32m~/anaconda3/envs/va/lib/python3.8/site-packages/jax/_src/lax/slicing.py:2167\u001b[0m, in \u001b[0;36m_dynamic_slice_indices\u001b[0;34m(operand, start_indices)\u001b[0m\n\u001b[1;32m   2164\u001b[0m \u001b[38;5;28;01mfor\u001b[39;00m i, d \u001b[38;5;129;01min\u001b[39;00m \u001b[38;5;28mzip\u001b[39m(start_indices, operand\u001b[38;5;241m.\u001b[39mshape):\n\u001b[1;32m   2165\u001b[0m   \u001b[38;5;66;03m# We test whether i and d are static to avoid unnecessary staging.\u001b[39;00m\n\u001b[1;32m   2166\u001b[0m   \u001b[38;5;28;01mif\u001b[39;00m \u001b[38;5;28misinstance\u001b[39m(i, (\u001b[38;5;28mint\u001b[39m, np\u001b[38;5;241m.\u001b[39minteger)) \u001b[38;5;129;01mand\u001b[39;00m core\u001b[38;5;241m.\u001b[39mis_constant_dim(d):\n\u001b[0;32m-> 2167\u001b[0m     result\u001b[38;5;241m.\u001b[39mappend(\u001b[43mlax\u001b[49m\u001b[38;5;241;43m.\u001b[39;49m\u001b[43mconvert_element_type\u001b[49m\u001b[43m(\u001b[49m\u001b[43mi\u001b[49m\u001b[43m \u001b[49m\u001b[38;5;241;43m+\u001b[39;49m\u001b[43m \u001b[49m\u001b[43md\u001b[49m\u001b[43m \u001b[49m\u001b[38;5;28;43;01mif\u001b[39;49;00m\u001b[43m \u001b[49m\u001b[43mi\u001b[49m\u001b[43m \u001b[49m\u001b[38;5;241;43m<\u001b[39;49m\u001b[43m \u001b[49m\u001b[38;5;241;43m0\u001b[39;49m\u001b[43m \u001b[49m\u001b[38;5;28;43;01melse\u001b[39;49;00m\u001b[43m \u001b[49m\u001b[43mi\u001b[49m\u001b[43m,\u001b[49m\u001b[43m \u001b[49m\u001b[43m_dtype\u001b[49m\u001b[43m(\u001b[49m\u001b[43mi\u001b[49m\u001b[43m)\u001b[49m\u001b[43m)\u001b[49m)\n\u001b[1;32m   2168\u001b[0m     \u001b[38;5;28;01mcontinue\u001b[39;00m\n\u001b[1;32m   2169\u001b[0m   d \u001b[38;5;241m=\u001b[39m core\u001b[38;5;241m.\u001b[39mdimension_as_value(d)\n",
      "File \u001b[0;32m~/anaconda3/envs/va/lib/python3.8/site-packages/jax/_src/lax/lax.py:510\u001b[0m, in \u001b[0;36mconvert_element_type\u001b[0;34m(operand, new_dtype)\u001b[0m\n\u001b[1;32m    495\u001b[0m \u001b[38;5;28;01mdef\u001b[39;00m \u001b[38;5;21mconvert_element_type\u001b[39m(operand: ArrayLike, new_dtype: DTypeLike) \u001b[38;5;241m-\u001b[39m\u001b[38;5;241m>\u001b[39m Array:\n\u001b[1;32m    496\u001b[0m \u001b[38;5;250m  \u001b[39m\u001b[38;5;124;03m\"\"\"Elementwise cast.\u001b[39;00m\n\u001b[1;32m    497\u001b[0m \n\u001b[1;32m    498\u001b[0m \u001b[38;5;124;03m  Wraps XLA's `ConvertElementType\u001b[39;00m\n\u001b[0;32m   (...)\u001b[0m\n\u001b[1;32m    508\u001b[0m \u001b[38;5;124;03m    An array with the same shape as `operand`, cast elementwise to `new_dtype`.\u001b[39;00m\n\u001b[1;32m    509\u001b[0m \u001b[38;5;124;03m  \"\"\"\u001b[39;00m\n\u001b[0;32m--> 510\u001b[0m   \u001b[38;5;28;01mreturn\u001b[39;00m \u001b[43m_convert_element_type\u001b[49m\u001b[43m(\u001b[49m\u001b[43moperand\u001b[49m\u001b[43m,\u001b[49m\u001b[43m \u001b[49m\u001b[43mnew_dtype\u001b[49m\u001b[43m,\u001b[49m\u001b[43m \u001b[49m\u001b[43mweak_type\u001b[49m\u001b[38;5;241;43m=\u001b[39;49m\u001b[38;5;28;43;01mFalse\u001b[39;49;00m\u001b[43m)\u001b[49m\n",
      "File \u001b[0;32m~/anaconda3/envs/va/lib/python3.8/site-packages/jax/_src/lax/lax.py:530\u001b[0m, in \u001b[0;36m_convert_element_type\u001b[0;34m(operand, new_dtype, weak_type)\u001b[0m\n\u001b[1;32m    528\u001b[0m \u001b[38;5;28;01melse\u001b[39;00m:\n\u001b[1;32m    529\u001b[0m   new_dtype \u001b[38;5;241m=\u001b[39m np\u001b[38;5;241m.\u001b[39mdtype(new_dtype)\n\u001b[0;32m--> 530\u001b[0m new_dtype \u001b[38;5;241m=\u001b[39m \u001b[43mdtypes\u001b[49m\u001b[38;5;241;43m.\u001b[39;49m\u001b[43mdtype\u001b[49m\u001b[43m(\u001b[49m\u001b[43mnew_dtype\u001b[49m\u001b[43m,\u001b[49m\u001b[43m \u001b[49m\u001b[43mcanonicalize\u001b[49m\u001b[38;5;241;43m=\u001b[39;49m\u001b[38;5;28;43;01mTrue\u001b[39;49;00m\u001b[43m)\u001b[49m\n\u001b[1;32m    532\u001b[0m \u001b[38;5;28;01mif\u001b[39;00m (dtypes\u001b[38;5;241m.\u001b[39missubdtype(old_dtype, np\u001b[38;5;241m.\u001b[39mcomplexfloating) \u001b[38;5;129;01mand\u001b[39;00m\n\u001b[1;32m    533\u001b[0m     \u001b[38;5;129;01mnot\u001b[39;00m dtypes\u001b[38;5;241m.\u001b[39missubdtype(new_dtype, np\u001b[38;5;241m.\u001b[39mcomplexfloating)):\n\u001b[1;32m    534\u001b[0m   msg \u001b[38;5;241m=\u001b[39m \u001b[38;5;124m\"\u001b[39m\u001b[38;5;124mCasting complex values to real discards the imaginary part\u001b[39m\u001b[38;5;124m\"\u001b[39m\n",
      "File \u001b[0;32m~/anaconda3/envs/va/lib/python3.8/site-packages/jax/_src/dtypes.py:528\u001b[0m, in \u001b[0;36mdtype\u001b[0;34m(x, canonicalize)\u001b[0m\n\u001b[1;32m    526\u001b[0m \u001b[38;5;28;01melse\u001b[39;00m:\n\u001b[1;32m    527\u001b[0m   \u001b[38;5;28;01mtry\u001b[39;00m:\n\u001b[0;32m--> 528\u001b[0m     dt \u001b[38;5;241m=\u001b[39m \u001b[43mnp\u001b[49m\u001b[38;5;241;43m.\u001b[39;49m\u001b[43mresult_type\u001b[49m\u001b[43m(\u001b[49m\u001b[43mx\u001b[49m\u001b[43m)\u001b[49m\n\u001b[1;32m    529\u001b[0m   \u001b[38;5;28;01mexcept\u001b[39;00m \u001b[38;5;167;01mTypeError\u001b[39;00m \u001b[38;5;28;01mas\u001b[39;00m err:\n\u001b[1;32m    530\u001b[0m     \u001b[38;5;28;01mraise\u001b[39;00m \u001b[38;5;167;01mTypeError\u001b[39;00m(\u001b[38;5;124mf\u001b[39m\u001b[38;5;124m\"\u001b[39m\u001b[38;5;124mCannot determine dtype of \u001b[39m\u001b[38;5;132;01m{\u001b[39;00mx\u001b[38;5;132;01m}\u001b[39;00m\u001b[38;5;124m\"\u001b[39m) \u001b[38;5;28;01mfrom\u001b[39;00m \u001b[38;5;21;01merr\u001b[39;00m\n",
      "File \u001b[0;32m<__array_function__ internals>:180\u001b[0m, in \u001b[0;36mresult_type\u001b[0;34m(*args, **kwargs)\u001b[0m\n",
      "\u001b[0;31mKeyboardInterrupt\u001b[0m: "
     ]
    }
   ],
   "source": [
    "wavelengths, flux, continuum = synth(\n",
    "    Teff=5000,          # Effective temperature (K)\n",
    "    logg=4.32,          # Surface gravity (log g)\n",
    "    m_H=-1.1,            # Metallicity [M/H]\n",
    ")"
   ]
  },
  {
   "cell_type": "code",
   "execution_count": null,
   "id": "88ea412d",
   "metadata": {},
   "outputs": [],
   "source": [
    "# Check the synthesis results\n",
    "import numpy as np\n",
    "import matplotlib.pyplot as plt\n",
    "\n",
    "print(\"=== Synthesis Results ===\")\n",
    "print(f\"Wavelength range: {wavelengths[0]:.1f} - {wavelengths[-1]:.1f} Å\")\n",
    "print(f\"Number of points: {len(wavelengths)}\")\n",
    "print(f\"Flux range: {flux.min():.3f} - {flux.max():.3f}\")\n",
    "print(f\"Mean flux: {flux.mean():.3f}\")\n",
    "\n",
    "if continuum is not None:\n",
    "    print(f\"Continuum range: {continuum.min():.2e} - {continuum.max():.2e}\")\n",
    "else:\n",
    "    print(\"Continuum: None\")\n",
    "\n",
    "# Find significant spectral lines\n",
    "line_threshold = 0.95\n",
    "strong_lines = wavelengths[flux < line_threshold]\n",
    "print(f\"Strong lines (< {line_threshold}): {len(strong_lines)}\")\n",
    "\n",
    "if len(strong_lines) > 0:\n",
    "    print(f\"Deepest line: {flux.min():.3f} at {wavelengths[flux.argmin()]:.2f} Å\")\n",
    "    print(f\"First few strong lines: {strong_lines[:5]}\")\n",
    "\n",
    "print(\"\\n✅ Synthesis completed successfully!\")"
   ]
  }
 ],
 "metadata": {
  "kernelspec": {
   "display_name": "va",
   "language": "python",
   "name": "python3"
  },
  "language_info": {
   "codemirror_mode": {
    "name": "ipython",
    "version": 3
   },
   "file_extension": ".py",
   "mimetype": "text/x-python",
   "name": "python",
   "nbconvert_exporter": "python",
   "pygments_lexer": "ipython3",
   "version": "3.8.20"
  }
 },
 "nbformat": 4,
 "nbformat_minor": 5
}
