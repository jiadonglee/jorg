{
 "cells": [
  {
   "cell_type": "code",
   "execution_count": 1,
   "id": "8f97bd91",
   "metadata": {},
   "outputs": [],
   "source": [
    "import sys\n",
    "sys.path.append(\"/Users/jdli/Project/Korg.jl/Jorg/src\")  # Adjust path to include the parent directory\n",
    "from jorg.atmosphere import interpolate_marcs, solar_atmosphere\n",
    "# Calculate solar atmosphere\n",
    "\n",
    "atmosphere = interpolate_marcs(\n",
    "    Teff=5777.0,  # Effective temperature (K)\n",
    "    logg=4.44,    # Surface gravity log(g) (cgs)\n",
    "    m_H=0.0       # Metallicity [M/H]\n",
    ")"
   ]
  },
  {
   "cell_type": "code",
   "execution_count": 2,
   "id": "598a53c3",
   "metadata": {},
   "outputs": [
    {
     "name": "stdout",
     "output_type": "stream",
     "text": [
      "Result: 56 atmospheric layers\n",
      "Geometry: Planar\n"
     ]
    }
   ],
   "source": [
    "print(f\"Result: {len(atmosphere.layers)} atmospheric layers\")\n",
    "print(f\"Geometry: {'Spherical' if atmosphere.spherical else 'Planar'}\")\n"
   ]
  },
  {
   "cell_type": "code",
   "execution_count": 3,
   "id": "e22cbc06",
   "metadata": {},
   "outputs": [
    {
     "name": "stdout",
     "output_type": "stream",
     "text": [
      "Temperature: 4870 K\n",
      "Optical depth: 2.80e-02\n",
      "Gas density: 3.25e+16 cm⁻³\n",
      "Electron density: 2.58e+12 cm⁻³\n",
      "Height: 2.15e+07 cm\n"
     ]
    }
   ],
   "source": [
    "layer = atmosphere.layers[25]  # Photospheric layer\n",
    "print(f\"Temperature: {layer.temp:.0f} K\")\n",
    "print(f\"Optical depth: {layer.tau_5000:.2e}\")\n",
    "print(f\"Gas density: {layer.number_density:.2e} cm⁻³\")\n",
    "print(f\"Electron density: {layer.electron_number_density:.2e} cm⁻³\")\n",
    "print(f\"Height: {layer.z:.2e} cm\")\n",
    "\n",
    "\n",
    "stellar_params = [(5777,4.44,0.0), (4500,2.5,-0.5), (6000,4.0,0.2)]\n",
    "atmospheres = [interpolate_marcs(*params) for params in stellar_params]\n",
    "\n",
    "\n",
    "# Full parameter specification\n",
    "atmosphere = interpolate_marcs(\n",
    "    Teff=5000.0,\n",
    "    logg=4.0,\n",
    "    m_H=-0.5,     # Metallicity [M/H]\n",
    "    alpha_m=0.4,  # Alpha enhancement [α/M]\n",
    "    C_m=0.0       # Carbon enhancement [C/M]\n",
    ")"
   ]
  },
  {
   "cell_type": "code",
   "execution_count": null,
   "id": "90652561",
   "metadata": {},
   "outputs": [],
   "source": []
  }
 ],
 "metadata": {
  "kernelspec": {
   "display_name": "va",
   "language": "python",
   "name": "python3"
  },
  "language_info": {
   "codemirror_mode": {
    "name": "ipython",
    "version": 3
   },
   "file_extension": ".py",
   "mimetype": "text/x-python",
   "name": "python",
   "nbconvert_exporter": "python",
   "pygments_lexer": "ipython3",
   "version": "3.8.20"
  }
 },
 "nbformat": 4,
 "nbformat_minor": 5
}
