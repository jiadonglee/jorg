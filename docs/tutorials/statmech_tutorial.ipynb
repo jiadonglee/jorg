{
 "cells": [
  {
   "cell_type": "code",
   "execution_count": 1,
   "id": "7f614381",
   "metadata": {},
   "outputs": [],
   "source": [
    "import sys\n",
    "sys.path.append('/Users/jdli/Project/Korg.jl/Jorg/src/')\n",
    "\n"
   ]
  },
  {
   "cell_type": "code",
   "execution_count": 2,
   "id": "a7c99339",
   "metadata": {},
   "outputs": [],
   "source": [
    "from jorg.statmech import (\n",
    "    # Core chemical equilibrium\n",
    "    chemical_equilibrium,\n",
    "    # Species representation\n",
    "    Species, Formula,\n",
    "    \n",
    "    # Data creation functions\n",
    "    create_default_partition_functions,\n",
    "    create_default_ionization_energies,\n",
    "    create_default_log_equilibrium_constants,\n",
    "    \n",
    "    # Low-level functions\n",
    "    saha_ion_weights,\n",
    "    translational_U,\n",
    "    get_log_nK\n",
    ")"
   ]
  },
  {
   "cell_type": "code",
   "execution_count": 3,
   "id": "559b5db3",
   "metadata": {},
   "outputs": [
    {
     "name": "stdout",
     "output_type": "stream",
     "text": [
      "Hydrogen neutral: H I\n",
      "Iron ion: Fe II\n",
      "Carbon monoxide: CO\n",
      "Water: H2O\n"
     ]
    }
   ],
   "source": [
    "from jorg.statmech import Species, Formula\n",
    "\n",
    "# Atomic species using different notation styles\n",
    "h_neutral = Species.from_string(\"H I\")        # Roman numeral notation\n",
    "h_ion = Species.from_string(\"H II\")           # Singly ionized hydrogen\n",
    "h_plus = Species.from_string(\"H+\")            # Alternative notation\n",
    "h_minus = Species.from_string(\"H-\")           # Hydrogen anion\n",
    "\n",
    "# Iron species\n",
    "fe_neutral = Species.from_string(\"Fe I\")      # Neutral iron\n",
    "fe_ion = Species.from_string(\"Fe II\")         # Singly ionized iron\n",
    "\n",
    "# Molecular species\n",
    "co = Species.from_string(\"CO\")                # Carbon monoxide\n",
    "h2o = Species.from_string(\"H2O\")              # Water\n",
    "oh = Species.from_string(\"OH\")                # Hydroxyl radical\n",
    "\n",
    "# MOOG-style numeric codes\n",
    "co_moog = Species.from_string(\"0608\")         # CO (C=6, O=8)\n",
    "\n",
    "print(f\"Hydrogen neutral: {h_neutral}\")\n",
    "print(f\"Iron ion: {fe_ion}\")\n",
    "print(f\"Carbon monoxide: {co}\")\n",
    "print(f\"Water: {h2o}\")"
   ]
  },
  {
   "cell_type": "code",
   "execution_count": 4,
   "id": "874bf6e6",
   "metadata": {},
   "outputs": [
    {
     "name": "stdout",
     "output_type": "stream",
     "text": [
      "Species: Fe II\n",
      "Is atom: True\n",
      "Is molecule: False\n",
      "Is neutral: False\n",
      "Is ion: True\n",
      "Charge: 1\n",
      "Mass (AMU): 55.85\n",
      "Number of atoms: 1\n",
      "Atomic composition: (26,)\n",
      "\n",
      "Water molecule:\n",
      "  Formula: H2O\n",
      "  Mass: 18.016 AMU\n",
      "  Atoms: (1, 1, 8)\n"
     ]
    }
   ],
   "source": [
    "# Examine species properties\n",
    "species = Species.from_string(\"Fe II\")\n",
    "\n",
    "print(f\"Species: {species}\")\n",
    "print(f\"Is atom: {species.is_atom}\")\n",
    "print(f\"Is molecule: {species.is_molecule}\")  \n",
    "print(f\"Is neutral: {species.is_neutral}\")\n",
    "print(f\"Is ion: {species.is_ion}\")\n",
    "print(f\"Charge: {species.charge}\")\n",
    "print(f\"Mass (AMU): {species.mass}\")\n",
    "print(f\"Number of atoms: {species.n_atoms}\")\n",
    "print(f\"Atomic composition: {species.get_atoms()}\")\n",
    "\n",
    "# For molecules\n",
    "h2o = Species.from_string(\"H2O\")\n",
    "print(f\"\\nWater molecule:\")\n",
    "print(f\"  Formula: {h2o.formula}\")\n",
    "print(f\"  Mass: {h2o.mass:.3f} AMU\")\n",
    "print(f\"  Atoms: {h2o.get_atoms()}\")  # (1, 1, 8) - two H, one O"
   ]
  },
  {
   "cell_type": "code",
   "execution_count": 5,
   "id": "0887173f",
   "metadata": {},
   "outputs": [
    {
     "name": "stdout",
     "output_type": "stream",
     "text": [
      "Species: Fe II\n",
      "Is atom: True\n",
      "Is molecule: False\n",
      "Is neutral: False\n",
      "Is ion: True\n",
      "Charge: 1\n",
      "Mass (AMU): 55.85\n",
      "Number of atoms: 1\n",
      "Atomic composition: (26,)\n",
      "\n",
      "Water molecule:\n",
      "  Formula: H2O\n",
      "  Mass: 18.016 AMU\n",
      "  Atoms: (1, 1, 8)\n"
     ]
    }
   ],
   "source": [
    "# Examine species properties\n",
    "species = Species.from_string(\"Fe II\")\n",
    "\n",
    "print(f\"Species: {species}\")\n",
    "print(f\"Is atom: {species.is_atom}\")\n",
    "print(f\"Is molecule: {species.is_molecule}\")  \n",
    "print(f\"Is neutral: {species.is_neutral}\")\n",
    "print(f\"Is ion: {species.is_ion}\")\n",
    "print(f\"Charge: {species.charge}\")\n",
    "print(f\"Mass (AMU): {species.mass}\")\n",
    "print(f\"Number of atoms: {species.n_atoms}\")\n",
    "print(f\"Atomic composition: {species.get_atoms()}\")\n",
    "\n",
    "# For molecules\n",
    "h2o = Species.from_string(\"H2O\")\n",
    "print(f\"\\nWater molecule:\")\n",
    "print(f\"  Formula: {h2o.formula}\")\n",
    "print(f\"  Mass: {h2o.mass:.3f} AMU\")\n",
    "print(f\"  Atoms: {h2o.get_atoms()}\")  # (1, 1, 8) - two H, one O"
   ]
  },
  {
   "cell_type": "code",
   "execution_count": 6,
   "id": "a7548926",
   "metadata": {},
   "outputs": [
    {
     "name": "stdout",
     "output_type": "stream",
     "text": [
      "Hydrogen formula: H\n",
      "CO formula: CO\n",
      "H2O atoms: (1, 1, 8)\n"
     ]
    }
   ],
   "source": [
    "# Create formulas directly\n",
    "h_formula = Formula.from_atomic_number(1)     # Hydrogen\n",
    "co_formula = Formula.from_string(\"CO\")        # Carbon monoxide\n",
    "h2o_formula = Formula.from_string(\"H2O\")      # Water\n",
    "\n",
    "# Use formulas to create species\n",
    "h_neutral = Species(h_formula, 0)             # H I\n",
    "h_ion = Species(h_formula, 1)                 # H II\n",
    "\n",
    "print(f\"Hydrogen formula: {h_formula}\")\n",
    "print(f\"CO formula: {co_formula}\")\n",
    "print(f\"H2O atoms: {h2o_formula.get_atoms()}\")"
   ]
  },
  {
   "cell_type": "code",
   "execution_count": 7,
   "id": "9bd2c1fb",
   "metadata": {},
   "outputs": [
    {
     "name": "stdout",
     "output_type": "stream",
     "text": [
      "Loaded partition functions for 276 species\n",
      "Loaded ionization energies for 92 elements\n",
      "Loaded equilibrium constants for 9 molecules\n"
     ]
    }
   ],
   "source": [
    "from jorg.statmech import (\n",
    "    create_default_partition_functions,\n",
    "    create_default_ionization_energies,\n",
    "    create_default_log_equilibrium_constants\n",
    ")\n",
    "\n",
    "# Load default data sets\n",
    "partition_funcs = create_default_partition_functions()\n",
    "ionization_energies = create_default_ionization_energies()\n",
    "log_equilibrium_constants = create_default_log_equilibrium_constants()\n",
    "\n",
    "print(f\"Loaded partition functions for {len(partition_funcs)} species\")\n",
    "print(f\"Loaded ionization energies for {len(ionization_energies)} elements\")\n",
    "print(f\"Loaded equilibrium constants for {len(log_equilibrium_constants)} molecules\")"
   ]
  },
  {
   "cell_type": "code",
   "execution_count": 8,
   "id": "35eb4a60",
   "metadata": {},
   "outputs": [
    {
     "name": "stdout",
     "output_type": "stream",
     "text": [
      "Ionization energies (eV):\n",
      "  Z=1: χI=13.598, χII=-1.000, χIII=-1.000\n",
      "  Z=2: χI=24.587, χII=54.418, χIII=-1.000\n",
      "  Z=6: χI=11.260, χII=24.385, χIII=47.888\n",
      "  Z=8: χI=13.618, χII=35.121, χIII=54.936\n",
      "  Z=26: χI=7.902, χII=16.199, χIII=30.651\n",
      "\n",
      "Partition functions at T=5778.0K:\n",
      "  H I: 2.00\n",
      "  Fe I: 25.00\n",
      "  Fe II: 30.00\n",
      "\n",
      "Log equilibrium constants at T=5778.0K:\n",
      "  CO: -4.65\n",
      "  OH: -2.74\n"
     ]
    }
   ],
   "source": [
    "import jax.numpy as jnp\n",
    "\n",
    "# Check ionization energies (in eV)\n",
    "print(\"Ionization energies (eV):\")\n",
    "for element in [1, 2, 6, 8, 26]:  # H, He, C, O, Fe\n",
    "    if element in ionization_energies:\n",
    "        chi_I, chi_II, chi_III = ionization_energies[element]\n",
    "        print(f\"  Z={element}: χI={chi_I:.3f}, χII={chi_II:.3f}, χIII={chi_III:.3f}\")\n",
    "\n",
    "# Check partition functions\n",
    "h_i = Species.from_string(\"H I\")\n",
    "fe_i = Species.from_string(\"Fe I\")\n",
    "fe_ii = Species.from_string(\"Fe II\")\n",
    "\n",
    "T = 5778.0  # Solar temperature\n",
    "log_T = jnp.log(T)\n",
    "\n",
    "print(f\"\\nPartition functions at T={T}K:\")\n",
    "print(f\"  H I: {partition_funcs[h_i](log_T):.2f}\")\n",
    "print(f\"  Fe I: {partition_funcs[fe_i](log_T):.2f}\")\n",
    "print(f\"  Fe II: {partition_funcs[fe_ii](log_T):.2f}\")\n",
    "\n",
    "# Check molecular equilibrium constants\n",
    "co = Species.from_string(\"CO\")\n",
    "oh = Species.from_string(\"OH\")\n",
    "\n",
    "print(f\"\\nLog equilibrium constants at T={T}K:\")\n",
    "if co in log_equilibrium_constants:\n",
    "    print(f\"  CO: {log_equilibrium_constants[co](log_T):.2f}\")\n",
    "if oh in log_equilibrium_constants:\n",
    "    print(f\"  OH: {log_equilibrium_constants[oh](log_T):.2f}\")"
   ]
  },
  {
   "cell_type": "code",
   "execution_count": 9,
   "id": "d3af9375",
   "metadata": {},
   "outputs": [
    {
     "name": "stdout",
     "output_type": "stream",
     "text": [
      "Solar abundances loaded for 30 elements\n",
      "Hydrogen abundance: 9.207e-01\n",
      "Helium abundance: 7.836e-02\n",
      "Iron abundance: 2.911e-05\n"
     ]
    }
   ],
   "source": [
    "import numpy as np\n",
    "from jorg.statmech import chemical_equilibrium\n",
    "from jorg.abundances import format_A_X\n",
    "\n",
    "# Define stellar atmosphere conditions\n",
    "T = 5778.0      # Temperature (K) - solar photosphere\n",
    "nt = 1e15       # Total number density (cm⁻³)\n",
    "model_atm_ne = 1e12  # Initial electron density guess (cm⁻³)\n",
    "\n",
    "# Get solar abundances and convert to absolute scale\n",
    "abundances = format_A_X()  # Returns log abundances relative to H=12\n",
    "absolute_abundances = {}\n",
    "\n",
    "for Z, log_abundance in abundances.items():\n",
    "    absolute_abundances[Z] = 10**(log_abundance - 12.0)\n",
    "\n",
    "# Normalize abundances so sum(N_X/N_total) = 1\n",
    "total_abundance = sum(absolute_abundances.values())\n",
    "for Z in absolute_abundances:\n",
    "    absolute_abundances[Z] /= total_abundance\n",
    "\n",
    "print(f\"Solar abundances loaded for {len(absolute_abundances)} elements\")\n",
    "print(f\"Hydrogen abundance: {absolute_abundances[1]:.3e}\")\n",
    "print(f\"Helium abundance: {absolute_abundances[2]:.3e}\")\n",
    "print(f\"Iron abundance: {absolute_abundances[26]:.3e}\")"
   ]
  },
  {
   "cell_type": "code",
   "execution_count": 10,
   "id": "b7a4d584",
   "metadata": {},
   "outputs": [
    {
     "name": "stdout",
     "output_type": "stream",
     "text": [
      "\n",
      "Chemical equilibrium results:\n",
      "  Temperature: 5778.0 K\n",
      "  Total density: 1.00e+15 cm⁻³\n",
      "  Electron density: 1.00e+13 cm⁻³\n",
      "  Species calculated: 99\n"
     ]
    },
    {
     "name": "stderr",
     "output_type": "stream",
     "text": [
      "/Users/jdli/anaconda3/envs/va/lib/python3.8/site-packages/scipy/optimize/minpack.py:175: RuntimeWarning: The iteration is not making good progress, as measured by the \n",
      "  improvement from the last ten iterations.\n",
      "  warnings.warn(msg, RuntimeWarning)\n",
      "/Users/jdli/Project/Korg.jl/Jorg/src/jorg/statmech/chemical_equilibrium.py:156: UserWarning: Calculated ne (1.00e+13) differs from model (1.00e+12) by 900.0%\n",
      "  warnings.warn(f\"Calculated ne ({ne_calc:.2e}) differs from model ({model_atm_ne:.2e}) by {rel_diff:.1%}\")\n"
     ]
    }
   ],
   "source": [
    "# Calculate chemical equilibrium\n",
    "ne, number_densities = chemical_equilibrium(\n",
    "    T, nt, model_atm_ne, absolute_abundances,\n",
    "    ionization_energies, partition_funcs, log_equilibrium_constants\n",
    ")\n",
    "\n",
    "print(f\"\\nChemical equilibrium results:\")\n",
    "print(f\"  Temperature: {T} K\")\n",
    "print(f\"  Total density: {nt:.2e} cm⁻³\")\n",
    "print(f\"  Electron density: {ne:.2e} cm⁻³\")\n",
    "print(f\"  Species calculated: {len(number_densities)}\")"
   ]
  },
  {
   "cell_type": "code",
   "execution_count": 11,
   "id": "fd6eed46",
   "metadata": {},
   "outputs": [
    {
     "name": "stdout",
     "output_type": "stream",
     "text": [
      "\n",
      "Atomic species number densities:\n",
      "  H:\n",
      "    H I: 9.101e+14 cm⁻³\n",
      "    H II: 1.329e+11 cm⁻³\n",
      "    H-: 0.000e+00 cm⁻³\n",
      "  He:\n",
      "    He I: 7.758e+13 cm⁻³\n",
      "    He II: 1.178e+01 cm⁻³\n",
      "  C:\n",
      "    C I: 2.148e+11 cm⁻³\n",
      "    C II: 3.053e+09 cm⁻³\n",
      "  O:\n",
      "    O I: 4.459e+11 cm⁻³\n",
      "    O II: 5.463e+07 cm⁻³\n",
      "  Fe:\n",
      "    Fe I: 8.821e+07 cm⁻³\n",
      "    Fe II: 2.873e+09 cm⁻³\n",
      "\n",
      "Molecular species number densities:\n",
      "  CO: 1.000e-10 cm⁻³\n",
      "  OH: 1.000e-10 cm⁻³\n",
      "  H2: 1.000e-10 cm⁻³\n",
      "  H2O: 1.000e-10 cm⁻³\n"
     ]
    }
   ],
   "source": [
    "key_species = [\n",
    "    (\"H I\", \"H II\", \"H-\"),           # Hydrogen\n",
    "    (\"He I\", \"He II\"),               # Helium  \n",
    "    (\"C I\", \"C II\"),                 # Carbon\n",
    "    (\"O I\", \"O II\"),                 # Oxygen\n",
    "    (\"Fe I\", \"Fe II\"),               # Iron\n",
    "]\n",
    "\n",
    "print(\"\\nAtomic species number densities:\")\n",
    "for species_group in key_species:\n",
    "    print(f\"  {species_group[0][:-2]}:\")  # Element name\n",
    "    for species_name in species_group:\n",
    "        species = Species.from_string(species_name)\n",
    "        density = number_densities.get(species, 0.0)\n",
    "        print(f\"    {species_name}: {density:.3e} cm⁻³\")\n",
    "\n",
    "# Molecular species\n",
    "molecular_species = [\"CO\", \"OH\", \"H2\", \"H2O\"]\n",
    "print(\"\\nMolecular species number densities:\")\n",
    "for mol_name in molecular_species:\n",
    "    try:\n",
    "        species = Species.from_string(mol_name)\n",
    "        density = number_densities.get(species, 0.0)\n",
    "        print(f\"  {mol_name}: {density:.3e} cm⁻³\")\n",
    "    except:\n",
    "        print(f\"  {mol_name}: not found\")"
   ]
  },
  {
   "cell_type": "code",
   "execution_count": null,
   "id": "3c1ccb6a",
   "metadata": {},
   "outputs": [],
   "source": []
  }
 ],
 "metadata": {
  "kernelspec": {
   "display_name": "va",
   "language": "python",
   "name": "python3"
  },
  "language_info": {
   "codemirror_mode": {
    "name": "ipython",
    "version": 3
   },
   "file_extension": ".py",
   "mimetype": "text/x-python",
   "name": "python",
   "nbconvert_exporter": "python",
   "pygments_lexer": "ipython3",
   "version": "3.8.20"
  }
 },
 "nbformat": 4,
 "nbformat_minor": 5
}
