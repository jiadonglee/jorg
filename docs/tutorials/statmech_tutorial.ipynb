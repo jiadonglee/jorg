{
 "cells": [
  {
   "cell_type": "code",
   "execution_count": 1,
   "id": "7f614381",
   "metadata": {},
   "outputs": [
    {
     "name": "stdout",
     "output_type": "stream",
     "text": [
      "H I\n",
      "H II\n",
      "H2O\n",
      "CO\n"
     ]
    }
   ],
   "source": [
    "import sys\n",
    "sys.path.append('/Users/jdli/Project/Korg.jl/Jorg/src/')\n",
    "\n",
    "from jorg.statmech.species import Species, Formula\n",
    "\n",
    "# Create Species objects\n",
    "h_i = Species.from_string(\"H I\")\n",
    "print(h_i)\n",
    "\n",
    "h_plus = Species.from_string(\"H+\")\n",
    "print(h_plus)\n",
    "\n",
    "h2o = Species.from_string(\"H2O\")\n",
    "print(h2o)\n",
    "\n",
    "# MOOG-style numeric codes are also supported\n",
    "co = Species.from_string(\"0608\")\n",
    "print(co)"
   ]
  },
  {
   "cell_type": "code",
   "execution_count": 2,
   "id": "559b5db3",
   "metadata": {},
   "outputs": [
    {
     "name": "stdout",
     "output_type": "stream",
     "text": [
      "C2\n",
      "C2(+2)\n"
     ]
    }
   ],
   "source": [
    "c2_formula = Formula.from_string(\"C2\")\n",
    "print(c2_formula)\n",
    "\n",
    "c2_species = Species(c2_formula, 2)\n",
    "print(c2_species)"
   ]
  },
  {
   "cell_type": "code",
   "execution_count": 3,
   "id": "874bf6e6",
   "metadata": {},
   "outputs": [
    {
     "name": "stdout",
     "output_type": "stream",
     "text": [
      "H2O\n",
      "(1, 1, 8)\n",
      "3\n",
      "18.016\n",
      "True\n"
     ]
    }
   ],
   "source": [
    "s = Species.from_string(\"H2O\")\n",
    "print(s)\n",
    "\n",
    "print(s.get_atoms())\n",
    "print(s.n_atoms)\n",
    "print(s.mass)\n",
    "print(s.is_molecule)"
   ]
  },
  {
   "cell_type": "code",
   "execution_count": 4,
   "id": "0887173f",
   "metadata": {},
   "outputs": [
    {
     "ename": "ImportError",
     "evalue": "cannot import name 'create_default_partition_functions' from 'jorg.statmech.partition_functions' (/Users/jdli/Project/Korg.jl/Jorg/src/jorg/statmech/partition_functions.py)",
     "output_type": "error",
     "traceback": [
      "\u001b[0;31m---------------------------------------------------------------------------\u001b[0m",
      "\u001b[0;31mImportError\u001b[0m                               Traceback (most recent call last)",
      "Cell \u001b[0;32mIn[4], line 1\u001b[0m\n\u001b[0;32m----> 1\u001b[0m \u001b[38;5;28;01mfrom\u001b[39;00m \u001b[38;5;21;01mjorg\u001b[39;00m\u001b[38;5;21;01m.\u001b[39;00m\u001b[38;5;21;01mstatmech\u001b[39;00m\u001b[38;5;21;01m.\u001b[39;00m\u001b[38;5;21;01mpartition_functions\u001b[39;00m \u001b[38;5;28;01mimport\u001b[39;00m create_default_partition_functions\n\u001b[1;32m      2\u001b[0m \u001b[38;5;28;01mfrom\u001b[39;00m \u001b[38;5;21;01mjorg\u001b[39;00m\u001b[38;5;21;01m.\u001b[39;00m\u001b[38;5;21;01mstatmech\u001b[39;00m\u001b[38;5;21;01m.\u001b[39;00m\u001b[38;5;21;01mionization\u001b[39;00m \u001b[38;5;28;01mimport\u001b[39;00m create_default_ionization_energies\n\u001b[1;32m      3\u001b[0m \u001b[38;5;28;01mfrom\u001b[39;00m \u001b[38;5;21;01mjorg\u001b[39;00m\u001b[38;5;21;01m.\u001b[39;00m\u001b[38;5;21;01mstatmech\u001b[39;00m\u001b[38;5;21;01m.\u001b[39;00m\u001b[38;5;21;01mmolecular\u001b[39;00m \u001b[38;5;28;01mimport\u001b[39;00m create_default_log_equilibrium_constants\n",
      "\u001b[0;31mImportError\u001b[0m: cannot import name 'create_default_partition_functions' from 'jorg.statmech.partition_functions' (/Users/jdli/Project/Korg.jl/Jorg/src/jorg/statmech/partition_functions.py)"
     ]
    }
   ],
   "source": [
    "from jorg.statmech.partition_functions import create_default_partition_functions\n",
    "from jorg.statmech.ionization import create_default_ionization_energies\n",
    "from jorg.statmech.molecular import create_default_log_equilibrium_constants\n",
    "from jorg.statmech.species import Species\n",
    "\n",
    "partition_funcs = create_default_partition_functions()\n",
    "ionization_energies = create_default_ionization_energies()\n",
    "log_equilibrium_constants = create_default_log_equilibrium_constants()\n",
    "\n",
    "fe_i = Species.from_string(\"Fe I\")\n",
    "print(partition_funcs[fe_i])\n",
    "\n",
    "# Oxygen is atomic number 8\n",
    "print(ionization_energies[8])\n",
    "\n",
    "co = Species.from_string(\"CO\")\n",
    "print(log_equilibrium_constants[co])"
   ]
  },
  {
   "cell_type": "code",
   "execution_count": 7,
   "id": "a7548926",
   "metadata": {},
   "outputs": [
    {
     "ename": "ImportError",
     "evalue": "cannot import name 'format_A_X' from 'jorg.abundances' (/Users/jdli/Project/Korg.jl/Jorg/src/jorg/abundances.py)",
     "output_type": "error",
     "traceback": [
      "\u001b[0;31m---------------------------------------------------------------------------\u001b[0m",
      "\u001b[0;31mImportError\u001b[0m                               Traceback (most recent call last)",
      "Cell \u001b[0;32mIn[7], line 3\u001b[0m\n\u001b[1;32m      1\u001b[0m \u001b[38;5;28;01mimport\u001b[39;00m \u001b[38;5;21;01mnumpy\u001b[39;00m \u001b[38;5;28;01mas\u001b[39;00m \u001b[38;5;21;01mnp\u001b[39;00m\n\u001b[1;32m      2\u001b[0m \u001b[38;5;28;01mfrom\u001b[39;00m \u001b[38;5;21;01mjorg\u001b[39;00m\u001b[38;5;21;01m.\u001b[39;00m\u001b[38;5;21;01mstatmech\u001b[39;00m\u001b[38;5;21;01m.\u001b[39;00m\u001b[38;5;21;01mchemical_equilibrium\u001b[39;00m \u001b[38;5;28;01mimport\u001b[39;00m chemical_equilibrium\n\u001b[0;32m----> 3\u001b[0m \u001b[38;5;28;01mfrom\u001b[39;00m \u001b[38;5;21;01mjorg\u001b[39;00m\u001b[38;5;21;01m.\u001b[39;00m\u001b[38;5;21;01mabundances\u001b[39;00m \u001b[38;5;28;01mimport\u001b[39;00m format_A_X\n\u001b[1;32m      4\u001b[0m \u001b[38;5;28;01mfrom\u001b[39;00m \u001b[38;5;21;01mjorg\u001b[39;00m\u001b[38;5;21;01m.\u001b[39;00m\u001b[38;5;21;01mstatmech\u001b[39;00m\u001b[38;5;21;01m.\u001b[39;00m\u001b[38;5;21;01mspecies\u001b[39;00m \u001b[38;5;28;01mimport\u001b[39;00m Species\n\u001b[1;32m      5\u001b[0m \u001b[38;5;28;01mfrom\u001b[39;00m \u001b[38;5;21;01mjorg\u001b[39;00m\u001b[38;5;21;01m.\u001b[39;00m\u001b[38;5;21;01mstatmech\u001b[39;00m\u001b[38;5;21;01m.\u001b[39;00m\u001b[38;5;21;01mpartition_functions\u001b[39;00m \u001b[38;5;28;01mimport\u001b[39;00m create_default_partition_functions\n",
      "\u001b[0;31mImportError\u001b[0m: cannot import name 'format_A_X' from 'jorg.abundances' (/Users/jdli/Project/Korg.jl/Jorg/src/jorg/abundances.py)"
     ]
    }
   ],
   "source": [
    "import numpy as np\n",
    "from jorg.statmech.chemical_equilibrium import chemical_equilibrium\n",
    "from jorg.abundances import format_A_X\n",
    "from jorg.statmech.species import Species\n",
    "from jorg.statmech.partition_functions import create_default_partition_functions\n",
    "from jorg.statmech.ionization import create_default_ionization_energies\n",
    "from jorg.statmech.molecular import create_default_log_equilibrium_constants\n",
    "\n",
    "# Define plasma parameters\n",
    "T = 5700.0  # K\n",
    "nt = 1e15   # cm⁻³\n",
    "model_atm_ne = 1e12 # cm⁻³\n",
    "\n",
    "# Get solar abundances\n",
    "abundances = format_A_X()\n",
    "absolute_abundances = {Z: 10**(A_X - 12.0) for Z, A_X in abundances.items()}\n",
    "#normalize so that sum(n(X)/n_tot) = 1\n",
    "norm_factor = sum(absolute_abundances.values())\n",
    "absolute_abundances = {Z: val/norm_factor for Z, val in absolute_abundances.items()}\n",
    "\n",
    "\n",
    "partition_funcs = create_default_partition_functions()\n",
    "ionization_energies = create_default_ionization_energies()\n",
    "log_equilibrium_constants = create_default_log_equilibrium_constants()\n",
    "\n",
    "# Calculate equilibrium\n",
    "ne, number_densities = chemical_equilibrium(\n",
    "    T, nt, model_atm_ne, absolute_abundances,\n",
    "    ionization_energies, partition_funcs, log_equilibrium_constants\n",
    ")\n",
    "\n",
    "print(f\"ne = {ne:.3e}\")\n",
    "\n",
    "h_i = Species.from_string(\"H I\")\n",
    "h_ii = Species.from_string(\"H II\")\n",
    "h_minus = Species.from_string(\"H-\")\n",
    "co = Species.from_string(\"CO\")\n",
    "\n",
    "print(f\"n(H I) = {number_densities.get(h_i, 0):.3e}\")\n",
    "print(f\"n(H II) = {number_densities.get(h_ii, 0):.3e}\")\n",
    "print(f\"n(H-) = {number_densities.get(h_minus, 0):.3e}\")\n",
    "print(f\"n(CO) = {number_densities.get(co, 0):.3e}\")"
   ]
  },
  {
   "cell_type": "code",
   "execution_count": null,
   "id": "9bd2c1fb",
   "metadata": {},
   "outputs": [],
   "source": []
  }
 ],
 "metadata": {
  "kernelspec": {
   "display_name": "va",
   "language": "python",
   "name": "python3"
  },
  "language_info": {
   "codemirror_mode": {
    "name": "ipython",
    "version": 3
   },
   "file_extension": ".py",
   "mimetype": "text/x-python",
   "name": "python",
   "nbconvert_exporter": "python",
   "pygments_lexer": "ipython3",
   "version": "3.8.20"
  }
 },
 "nbformat": 4,
 "nbformat_minor": 5
}
