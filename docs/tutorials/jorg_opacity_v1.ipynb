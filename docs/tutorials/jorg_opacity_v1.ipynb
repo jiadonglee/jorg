{
 "cells": [
  {
   "cell_type": "code",
   "execution_count": 5,
   "id": "e78c30b5",
   "metadata": {},
   "outputs": [
    {
     "name": "stdout",
     "output_type": "stream",
     "text": [
      "Added to Python path: /Users/jdli/Project/Korg.jl/jorg/src\n",
      "Attempting to import Jorg functions...\n"
     ]
    }
   ],
   "source": [
    "import json\n",
    "import numpy as np\n",
    "import os\n",
    "import sys\n",
    "from pathlib import Path\n",
    "import json\n",
    "\n",
    "# Add the correct Jorg package path\n",
    "jorg_src_path = os.path.join(os.path.dirname(os.getcwd()), 'Korg.jl/jorg/src')\n",
    "if jorg_src_path not in sys.path:\n",
    "    sys.path.insert(0, jorg_src_path)\n",
    "\n",
    "print(f\"Added to Python path: {jorg_src_path}\")\n",
    "\n",
    "# Try to import Jorg continuum functions with comprehensive error handling\n",
    "continuum_available = False\n",
    "constants_available = False\n",
    "\n",
    "print(\"Attempting to import Jorg functions...\")\n",
    "# Add Jorg to path\n",
    "from jorg.statmech.eos import gas_pressure, total_pressure\n",
    "from jorg.lines.opacity import calculate_line_opacity_korg_method\n",
    "\n",
    "def load_marcs_model(atmosphere_file):\n",
    "    \"\"\"Load MARCS atmosphere data\"\"\"\n",
    "    with open(atmosphere_file, 'r') as f:\n",
    "        atmosphere_data = json.load(f)\n",
    "    \n",
    "    # Get layer closest to tau_5000 = 1 (photosphere)\n",
    "    layer = min(atmosphere_data['atmosphere']['layers'], \n",
    "                key=lambda x: abs(x['tau_5000'] - 1.0))\n",
    "    \n",
    "    return {\n",
    "        'temperature': layer['temperature'],\n",
    "        'electron_density': layer['electron_density'],\n",
    "        'number_density': layer['number_density']\n",
    "    }"
   ]
  },
  {
   "cell_type": "code",
   "execution_count": 6,
   "id": "abf36202",
   "metadata": {},
   "outputs": [],
   "source": [
    "def load_marcs_model(atmosphere_file):\n",
    "    \"\"\"Load MARCS atmosphere data\"\"\"\n",
    "    with open(atmosphere_file, 'r') as f:\n",
    "        atmosphere_data = json.load(f)\n",
    "    \n",
    "    # Get layer closest to tau_5000 = 1 (photosphere)\n",
    "    layer = min(atmosphere_data['atmosphere']['layers'], \n",
    "                key=lambda x: abs(x['tau_5000'] - 1.0))\n",
    "    \n",
    "    return {\n",
    "        'temperature': layer['temperature'],\n",
    "        'electron_density': layer['electron_density'],\n",
    "        'number_density': layer['number_density']\n",
    "    }"
   ]
  },
  {
   "cell_type": "code",
   "execution_count": 8,
   "id": "683a4ff6",
   "metadata": {},
   "outputs": [],
   "source": [
    "def calculate_eos(atmosphere_params):\n",
    "    \"\"\"Calculate gas and total pressure using Jorg EOS\"\"\"\n",
    "    temp = atmosphere_params['temperature']\n",
    "    n_density = atmosphere_params['number_density']\n",
    "    e_density = atmosphere_params['electron_density']\n",
    "    \n",
    "    gas_press = gas_pressure(n_density, temp)\n",
    "    total_press = total_pressure(n_density, e_density, temp)\n",
    "    \n",
    "    return {\n",
    "        'gas_pressure': gas_press,\n",
    "        'total_pressure': total_press\n",
    "    }\n",
    "\n",
    "def load_linelist(linelist_file):\n",
    "    \"\"\"Load atomic/molecular line data\"\"\"\n",
    "    with open(linelist_file, 'r') as f:\n",
    "        return json.load(f)"
   ]
  },
  {
   "cell_type": "code",
   "execution_count": 9,
   "id": "e9aa6bec",
   "metadata": {},
   "outputs": [],
   "source": [
    "def calculate_total_opacity(atmosphere_file, linelist_file, wavelength):\n",
    "    \"\"\"\n",
    "    Calculate total opacity at given wavelength\n",
    "    \n",
    "    Args:\n",
    "        atmosphere_file: Path to MARCS atmosphere JSON\n",
    "        linelist_file: Path to linelist JSON  \n",
    "        wavelength: Wavelength in Angstroms\n",
    "        \n",
    "    Returns:\n",
    "        float: Total opacity in cm^-1\n",
    "    \"\"\"\n",
    "    # Load data\n",
    "    atm_params = load_marcs_model(atmosphere_file)\n",
    "    eos_params = calculate_eos(atm_params)\n",
    "    linelist = load_linelist(linelist_file)\n",
    "    \n",
    "    # Atmospheric parameters\n",
    "    temperature = atm_params['temperature']\n",
    "    electron_density = atm_params['electron_density']\n",
    "    hydrogen_density = atm_params['number_density'] * 0.9  # ~90% H\n",
    "    \n",
    "    # Line parameters (example Fe line)\n",
    "    excitation_potential = 3.0  # eV\n",
    "    log_gf = -2.0              # oscillator strength\n",
    "    abundance = 7.5e-5         # Fe/H ratio\n",
    "    microturbulence = 2.0      # km/s\n",
    "    \n",
    "    # Calculate opacity over small wavelength range\n",
    "    wavelengths = np.linspace(wavelength - 1.0, wavelength + 1.0, 100)\n",
    "    \n",
    "    opacity = calculate_line_opacity_korg_method(\n",
    "        wavelengths=wavelengths,\n",
    "        line_wavelength=wavelength,\n",
    "        excitation_potential=excitation_potential,\n",
    "        log_gf=log_gf,\n",
    "        temperature=temperature,\n",
    "        electron_density=electron_density,\n",
    "        hydrogen_density=hydrogen_density,\n",
    "        abundance=abundance,\n",
    "        microturbulence=microturbulence\n",
    "    )\n",
    "    \n",
    "    # Return central wavelength opacity\n",
    "    return opacity[len(wavelengths) // 2]\n",
    "\n"
   ]
  },
  {
   "cell_type": "code",
   "execution_count": 10,
   "id": "5885685a",
   "metadata": {},
   "outputs": [
    {
     "name": "stdout",
     "output_type": "stream",
     "text": [
      "Total opacity at 5000.0 Å: 5.054e-04 cm^-1\n"
     ]
    }
   ],
   "source": [
    "# File paths\n",
    "atmosphere_file = '/Users/jdli/Project/Korg.jl/jorg_related_files/marcs_data_for_jorg.json'\n",
    "linelist_file = '/Users/jdli/Project/Korg.jl/jorg_related_files/galah_linelist_for_jorg.json'\n",
    "wavelength = 5000.0  # Angstroms\n",
    "\n",
    "# Calculate opacity\n",
    "try:\n",
    "    total_opacity = calculate_total_opacity(atmosphere_file, linelist_file, wavelength)\n",
    "    print(f\"Total opacity at {wavelength} Å: {total_opacity:.3e} cm^-1\")\n",
    "except Exception as e:\n",
    "    print(f\"Error: {e}\")"
   ]
  },
  {
   "cell_type": "code",
   "execution_count": 12,
   "id": "ed353941",
   "metadata": {},
   "outputs": [
    {
     "name": "stdout",
     "output_type": "stream",
     "text": [
      "Opacity values calculated successfully.\n"
     ]
    }
   ],
   "source": [
    "wave_range = np.linspace(4000, 7000, 100)  # Example wavelength range\n",
    "try:\n",
    "    opacity_values = [calculate_total_opacity(atmosphere_file, linelist_file, wave) for wave in wave_range]\n",
    "    print(\"Opacity values calculated successfully.\")\n",
    "except Exception as e:\n",
    "    print(f\"Error calculating opacity values: {e}\")"
   ]
  },
  {
   "cell_type": "code",
   "execution_count": 14,
   "id": "9f4f84c4",
   "metadata": {},
   "outputs": [],
   "source": [
    "%matplotlib inline\n",
    "import matplotlib.pyplot as plt"
   ]
  },
  {
   "cell_type": "code",
   "execution_count": 15,
   "id": "0c38dd69",
   "metadata": {},
   "outputs": [
    {
     "data": {
      "text/plain": [
       "Text(0, 0.5, 'Opacity (cm$^{-1}$)')"
      ]
     },
     "execution_count": 15,
     "metadata": {},
     "output_type": "execute_result"
    },
    {
     "data": {
      "image/png": "[encoded data removed]",
      "text/plain": [
       "<Figure size 1000x600 with 1 Axes>"
      ]
     },
     "metadata": {},
     "output_type": "display_data"
    }
   ],
   "source": [
    "fig, ax = plt.subplots(figsize=(10, 6))\n",
    "ax.plot(wave_range, opacity_values, label='Total Opacity', color='blue')\n",
    "ax.set_xlabel('Wavelength (Å)')\n",
    "ax.set_ylabel('Opacity (cm$^{-1}$)')\n"
   ]
  },
  {
   "cell_type": "code",
   "execution_count": 24,
   "id": "f7f74650",
   "metadata": {},
   "outputs": [
    {
     "data": {
      "text/html": [
       "<div>\n",
       "<style scoped>\n",
       "    .dataframe tbody tr th:only-of-type {\n",
       "        vertical-align: middle;\n",
       "    }\n",
       "\n",
       "    .dataframe tbody tr th {\n",
       "        vertical-align: top;\n",
       "    }\n",
       "\n",
       "    .dataframe thead th {\n",
       "        text-align: right;\n",
       "    }\n",
       "</style>\n",
       "<table border=\"1\" class=\"dataframe\">\n",
       "  <thead>\n",
       "    <tr style=\"text-align: right;\">\n",
       "      <th></th>\n",
       "      <th>wavelength_angstrom</th>\n",
       "      <th>continuum_opacity_cm_inv</th>\n",
       "      <th>line_opacity_cm_inv</th>\n",
       "      <th>total_opacity_cm_inv</th>\n",
       "    </tr>\n",
       "  </thead>\n",
       "  <tbody>\n",
       "    <tr>\n",
       "      <th>0</th>\n",
       "      <td>4000.000000</td>\n",
       "      <td>4.669209e-11</td>\n",
       "      <td>0.0</td>\n",
       "      <td>4.669209e-11</td>\n",
       "    </tr>\n",
       "    <tr>\n",
       "      <th>1</th>\n",
       "      <td>4030.303030</td>\n",
       "      <td>4.669209e-11</td>\n",
       "      <td>0.0</td>\n",
       "      <td>4.669209e-11</td>\n",
       "    </tr>\n",
       "    <tr>\n",
       "      <th>2</th>\n",
       "      <td>4060.606061</td>\n",
       "      <td>4.669209e-11</td>\n",
       "      <td>0.0</td>\n",
       "      <td>4.669209e-11</td>\n",
       "    </tr>\n",
       "    <tr>\n",
       "      <th>3</th>\n",
       "      <td>4090.909091</td>\n",
       "      <td>4.669209e-11</td>\n",
       "      <td>0.0</td>\n",
       "      <td>4.669209e-11</td>\n",
       "    </tr>\n",
       "    <tr>\n",
       "      <th>4</th>\n",
       "      <td>4121.212121</td>\n",
       "      <td>4.669209e-11</td>\n",
       "      <td>0.0</td>\n",
       "      <td>4.669209e-11</td>\n",
       "    </tr>\n",
       "  </tbody>\n",
       "</table>\n",
       "</div>"
      ],
      "text/plain": [
       "   wavelength_angstrom  continuum_opacity_cm_inv  line_opacity_cm_inv  \\\n",
       "0          4000.000000              4.669209e-11                  0.0   \n",
       "1          4030.303030              4.669209e-11                  0.0   \n",
       "2          4060.606061              4.669209e-11                  0.0   \n",
       "3          4090.909091              4.669209e-11                  0.0   \n",
       "4          4121.212121              4.669209e-11                  0.0   \n",
       "\n",
       "   total_opacity_cm_inv  \n",
       "0          4.669209e-11  \n",
       "1          4.669209e-11  \n",
       "2          4.669209e-11  \n",
       "3          4.669209e-11  \n",
       "4          4.669209e-11  "
      ]
     },
     "execution_count": 24,
     "metadata": {},
     "output_type": "execute_result"
    }
   ],
   "source": [
    "import pandas as pd\n",
    "\n",
    "korg_opacity = pd.read_csv('/Users/jdli/Project/Korg.jl/korg_working_apis_opacity_4000_7000.csv')\n",
    "korg_opacity.head()"
   ]
  },
  {
   "cell_type": "code",
   "execution_count": 27,
   "id": "aa561a1d",
   "metadata": {},
   "outputs": [
    {
     "data": {
      "text/plain": [
       "Text(0, 0.5, 'Opacity (cm$^{-1}$)')"
      ]
     },
     "execution_count": 27,
     "metadata": {},
     "output_type": "execute_result"
    },
    {
     "data": {
      "image/png": "[encoded data removed]",
      "text/plain": [
       "<Figure size 1000x600 with 1 Axes>"
      ]
     },
     "metadata": {},
     "output_type": "display_data"
    }
   ],
   "source": [
    "fig, ax = plt.subplots(figsize=(10, 6))\n",
    "ax.plot(wave_range, 1/korg_opacity['total_opacity_cm_inv'], label='Total Opacity', color='blue')\n",
    "ax.set_xlabel('Wavelength (Å)')\n",
    "ax.set_ylabel('Opacity (cm$^{-1}$)')"
   ]
  },
  {
   "cell_type": "code",
   "execution_count": null,
   "id": "32fefaac",
   "metadata": {},
   "outputs": [],
   "source": []
  }
 ],
 "metadata": {
  "kernelspec": {
   "display_name": "va",
   "language": "python",
   "name": "python3"
  },
  "language_info": {
   "codemirror_mode": {
    "name": "ipython",
    "version": 3
   },
   "file_extension": ".py",
   "mimetype": "text/x-python",
   "name": "python",
   "nbconvert_exporter": "python",
   "pygments_lexer": "ipython3",
   "version": "3.8.20"
  }
 },
 "nbformat": 4,
 "nbformat_minor": 5
}
